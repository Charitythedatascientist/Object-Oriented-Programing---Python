{
 "cells": [
  {
   "cell_type": "markdown",
   "id": "6bd55514",
   "metadata": {},
   "source": [
    "## if Statements¶"
   ]
  },
  {
   "cell_type": "code",
   "execution_count": null,
   "id": "cfec47b1",
   "metadata": {},
   "outputs": [],
   "source": [
    "# Example of the if statement.\n",
    "x = int(input(\"Please enter an integer: \"))\n",
    "\n",
    "if x < 0:\n",
    "    x = 0\n",
    "    print('Negative changed to zero')\n",
    "elif x == 0:\n",
    "    print('Zero')\n",
    "elif x == 1:\n",
    "    print('Single')\n",
    "else:\n",
    "    print('More')"
   ]
  },
  {
   "cell_type": "markdown",
   "id": "328db1e9",
   "metadata": {},
   "source": [
    "## for Statements¶"
   ]
  },
  {
   "cell_type": "code",
   "execution_count": 3,
   "id": "bb6a1f63",
   "metadata": {},
   "outputs": [
    {
     "name": "stdout",
     "output_type": "stream",
     "text": [
      "cat 3\n",
      "window 6\n",
      "defenestrate 12\n"
     ]
    }
   ],
   "source": [
    "# Count the number of letters in a strings:\n",
    "words = ['cat', 'window', 'defenestrate']\n",
    "for w in words:\n",
    "    print(w, len(w))"
   ]
  },
  {
   "cell_type": "code",
   "execution_count": 1,
   "id": "334e67a5",
   "metadata": {},
   "outputs": [
    {
     "name": "stdout",
     "output_type": "stream",
     "text": [
      "1 cat\n",
      "2 window\n",
      "3 defenestrate\n"
     ]
    }
   ],
   "source": [
    "# Print Words with their index\n",
    "words = ['cat', 'window', 'defenestrate']\n",
    "for index, word in enumerate(words, start=1):\n",
    "    print( index, word)\n",
    "    "
   ]
  },
  {
   "cell_type": "markdown",
   "id": "f98f040e",
   "metadata": {},
   "source": [
    "### Dictionaries"
   ]
  },
  {
   "cell_type": "markdown",
   "id": "64191548",
   "metadata": {},
   "source": [
    "##### Code that modifies a collection while iterating over that same collection can be tricky to get right. Instead, it is usually more straight-forward to loop over a copy of the collection or to create a new collection"
   ]
  },
  {
   "cell_type": "code",
   "execution_count": 5,
   "id": "68b33c3e",
   "metadata": {},
   "outputs": [
    {
     "name": "stdout",
     "output_type": "stream",
     "text": [
      "Hans\n",
      "Ben\n"
     ]
    }
   ],
   "source": [
    "# Print the users who are active.\n",
    "users = {'Hans': 'active', 'Éléonore': 'inactive', '景太郎': 'active'}\n",
    "for key, value in users.items():\n",
    "    if users[key] == \"active\":\n",
    "        print(key)"
   ]
  },
  {
   "cell_type": "code",
   "execution_count": 6,
   "id": "8336902c",
   "metadata": {},
   "outputs": [
    {
     "name": "stdout",
     "output_type": "stream",
     "text": [
      "{'Hans': 'active', '景太郎': 'active'}\n"
     ]
    }
   ],
   "source": [
    "# Create a sample collection\n",
    "users = {'Hans': 'active', 'Éléonore': 'inactive', '景太郎': 'active'}\n",
    "\n",
    "## 1.Strategy:  Iterate over a copy\n",
    "\n",
    "for user, status in users.copy().items():\n",
    "    if users[user] == \"inactive\":\n",
    "        del users[user]\n",
    "\n",
    "# print(users)\n",
    "\n",
    "\n",
    "## 2.strategy: create a new collection \n",
    "\n",
    "active_users = {}\n",
    "\n",
    "for user, status in users.items():\n",
    "    if status == \"active\":\n",
    "        active_users[user] = status\n",
    "\n",
    "print(active_users)"
   ]
  },
  {
   "cell_type": "markdown",
   "id": "44b53add",
   "metadata": {},
   "source": [
    "## The range() Function¶\n",
    "\n",
    "The given end point is never part of the generated sequence"
   ]
  },
  {
   "cell_type": "code",
   "execution_count": null,
   "id": "a6c1e902",
   "metadata": {},
   "outputs": [],
   "source": [
    "for i in range(5):\n",
    "    print(i, end=\"\")\n"
   ]
  },
  {
   "cell_type": "code",
   "execution_count": null,
   "id": "87db17ee",
   "metadata": {},
   "outputs": [],
   "source": [
    "## prints a list range from 5 to 10\n",
    "list(range(5, 10))\n",
    "[5, 6, 7, 8, 9]\n",
    "\n",
    "# Prints a list range from 0 to 10 with a step of 3\n",
    "list(range(0, 10, 3))\n",
    "[0, 3, 6, 9]\n",
    "\n",
    "# Prints a list range from -10 to -100 with a step of -30\n",
    "list(range(-10, -100, -30))\n",
    "[-10, -40, -70]"
   ]
  },
  {
   "cell_type": "markdown",
   "id": "1367f262",
   "metadata": {},
   "source": [
    "Enumerate is used to print the index of items"
   ]
  },
  {
   "cell_type": "code",
   "execution_count": null,
   "id": "0ceecaa0",
   "metadata": {},
   "outputs": [],
   "source": [
    "seasons = ['Spring', 'Summer', 'Fall', 'Winter']\n",
    "for index, season in enumerate(seasons, start=1):\n",
    "    print(index, season)"
   ]
  },
  {
   "cell_type": "code",
   "execution_count": null,
   "id": "55e7c6b0",
   "metadata": {},
   "outputs": [],
   "source": [
    "seasons = ['Spring', 'Summer', 'Fall', 'Winter']\n",
    "\n",
    "def enumerates(seasons, start=0):\n",
    "    n = start\n",
    "    for item in seasons:\n",
    "        print(n, item)\n",
    "        n += 1\n",
    "        \n",
    "\n",
    "enumerates(seasons)   "
   ]
  },
  {
   "cell_type": "code",
   "execution_count": null,
   "id": "3f5ce446",
   "metadata": {},
   "outputs": [],
   "source": [
    "sum(range(4))  # 0 + 1 + 2 + 3"
   ]
  },
  {
   "cell_type": "markdown",
   "id": "9a6c7279",
   "metadata": {},
   "source": [
    "### Break and Continue Statements, and else Clauses on Loops¶\n",
    "The break statement, like in C, breaks out of the innermost enclosing for or while loop.\n",
    "\n",
    "Loop statements may have an else clause; it is executed when the loop terminates through exhaustion of the iterable (with for) or when the condition becomes false (with while), but not when the loop is terminated by a break statement. This is exemplified by the following loop, which searches for prime numbers:"
   ]
  },
  {
   "cell_type": "code",
   "execution_count": 1,
   "id": "88c2ce9e",
   "metadata": {},
   "outputs": [
    {
     "name": "stdout",
     "output_type": "stream",
     "text": [
      "1 is a prime number\n",
      "7 is a prime number\n",
      "14 equals 2 * 7\n",
      "23 is a prime number\n",
      "5 is a prime number\n",
      "25 equals 5 * 5\n",
      "42 equals 2 * 21\n",
      "81 equals 3 * 27\n",
      "91 equals 7 * 13\n",
      "87 equals 3 * 29\n",
      "41 is a prime number\n",
      "17 is a prime number\n",
      "37 is a prime number\n"
     ]
    }
   ],
   "source": [
    "# Find prime numbers \n",
    "# A prime number is a whole number greater than 1 that cannot be exactly divided by any whole number\n",
    "# other than 1 and itself (e.g. 2, 3, 5, 7, 11).\n",
    "\n",
    "numbers = [1, 7, 14, 23, 5,25,42,81, 91, 87, 41, 17, 37]\n",
    "# prime_numbers = []\n",
    "\n",
    "def prime_number(numbers):\n",
    "    for num in numbers:\n",
    "        for x in range(2, num):\n",
    "            if num % x == 0:\n",
    "                print(num, \"equals\", x, \"*\", num//x)\n",
    "#                 prime_numbers.append(num)\n",
    "                break\n",
    "        else:\n",
    "            print(num, 'is a prime number')\n",
    "                \n",
    "        \n",
    "\n",
    "prime_number(numbers)\n",
    "\n",
    "\n",
    "# for i in prime_numbers:\n",
    "#     print(i)\n",
    "\n",
    "    "
   ]
  },
  {
   "cell_type": "markdown",
   "id": "4fc29f35",
   "metadata": {},
   "source": [
    "### Continue\n",
    "The continue statement, also borrowed from C, continues with the next iteration of the loop:"
   ]
  },
  {
   "cell_type": "code",
   "execution_count": 2,
   "id": "9a62af04",
   "metadata": {},
   "outputs": [
    {
     "name": "stdout",
     "output_type": "stream",
     "text": [
      "Found an even number 2\n",
      "Found an odd number 3\n",
      "Found an even number 4\n",
      "Found an odd number 5\n",
      "Found an even number 6\n",
      "Found an odd number 7\n",
      "Found an even number 8\n",
      "Found an odd number 9\n"
     ]
    }
   ],
   "source": [
    "for num in range(2, 10):\n",
    "    if num % 2 == 0:\n",
    "        print(\"Found an even number\", num)\n",
    "        continue\n",
    "    print(\"Found an odd number\", num)"
   ]
  },
  {
   "cell_type": "markdown",
   "id": "b1860281",
   "metadata": {},
   "source": [
    "## pass Statements¶\n",
    "The pass statement does nothing. It can be used when a statement is required syntactically but the program requires no action."
   ]
  },
  {
   "cell_type": "code",
   "execution_count": null,
   "id": "9293ba20",
   "metadata": {},
   "outputs": [],
   "source": [
    "while True:\n",
    "    pass  # Busy-wait for keyboard interrupt (Ctrl+C)"
   ]
  },
  {
   "cell_type": "markdown",
   "id": "b5ba5a34",
   "metadata": {},
   "source": [
    "### match Statements¶\n",
    "\n",
    "import sys;print(sys.version)\n",
    "and make sure the version is >= 3.10\n",
    "\n",
    "\n",
    "A match statement takes an expression and compares its value to successive patterns given as one or more case blocks. This is superficially similar to a switch statement in C, Java or JavaScript (and many other languages), but it’s more similar to pattern matching in languages like Rust or Haskell. Only the first pattern that matches gets executed and it can also extract components (sequence elements or object attributes) from the value into variables."
   ]
  },
  {
   "cell_type": "code",
   "execution_count": null,
   "id": "ff45359c",
   "metadata": {},
   "outputs": [],
   "source": [
    "def http_error(status):\n",
    "    match status:\n",
    "        case 400:\n",
    "            return \"Bad request\"\n",
    "        case 404:\n",
    "            return \"Not found\"\n",
    "        case 418:\n",
    "            return \"I'm a teapot\"\n",
    "        case _:\n",
    "            return \"Something's wrong with the internet\""
   ]
  },
  {
   "cell_type": "code",
   "execution_count": null,
   "id": "58e66f6c",
   "metadata": {},
   "outputs": [],
   "source": [
    "#You can combine several literals in a single pattern using | (“or”):\n",
    "case (401 | 403 | 404):\n",
    "    return (\"Not allowed\")"
   ]
  },
  {
   "cell_type": "markdown",
   "id": "d6222e10",
   "metadata": {},
   "source": [
    "## Defining functions "
   ]
  },
  {
   "cell_type": "code",
   "execution_count": null,
   "id": "ff7baea3",
   "metadata": {},
   "outputs": [],
   "source": [
    "#Create a fibonacci sequence using a function.\n",
    "# This is a series of numbers in which each number is the sum of the two preciding numbers.\n",
    "import time\n",
    "\n",
    "fibonacci_cache = {}\n",
    " \n",
    "def fib(num):\n",
    "    # if we have cached the value, then return it\n",
    "    if num in fibonacci_cache:\n",
    "        return fibonacci_cache[num]\n",
    "    \n",
    "    # otherwise return the Nth term.\n",
    "    if num == 1:\n",
    "        return 0\n",
    "    elif num == 2:\n",
    "        return 1\n",
    "    \n",
    "    elif num > 2:\n",
    "        value = fib(num - 1) + fib(num - 2)\n",
    "        \n",
    "        #cache the vaue and return it\n",
    "        fibonacci_cache[num] = value\n",
    "        return value\n",
    "    \n",
    "    \n",
    "start = time.time()\n",
    "\n",
    "for i in range(1,40):\n",
    "    print(i, \":\", fib(i))\n",
    "    \n",
    "end = time.time()\n",
    "print(\"Time taken: \", end - start)\n",
    "\n",
    "for i,v in fibonacci_cache.items():\n",
    "    print(i,v)"
   ]
  },
  {
   "cell_type": "markdown",
   "id": "773b91db",
   "metadata": {},
   "source": [
    "## More Defining functions \n",
    "\n",
    "This function can be called in several ways:\n",
    "\n",
    "giving only the mandatory argument: ask_ok('Do you really want to quit?')\n",
    "\n",
    "giving one of the optional arguments: ask_ok('OK to overwrite the file?', 2)\n",
    "\n",
    "or even giving all arguments: ask_ok('OK to overwrite the file?', 2, 'Come on, only yes or no!')"
   ]
  },
  {
   "cell_type": "code",
   "execution_count": null,
   "id": "2b1c6c2d",
   "metadata": {},
   "outputs": [],
   "source": [
    "def ask_ok(prompt, retries=4, reminder='Please try again!'):\n",
    "    while True:\n",
    "        ok = input(prompt)\n",
    "        if ok in ('y', 'ye', 'yes'):\n",
    "            return True\n",
    "        if ok in ('n', 'no', 'nop', 'nope'):\n",
    "            return False\n",
    "        retries = retries - 1\n",
    "        if retries < 0:\n",
    "            raise ValueError('invalid user response')\n",
    "        print(reminder)\n",
    "        \n",
    "ask_ok('Do you really want to quit?')"
   ]
  },
  {
   "cell_type": "markdown",
   "id": "275f60fc",
   "metadata": {},
   "source": [
    " ### Keyword Arguments¶\n",
    " Functions can also be called using keyword arguments of the form kwarg=value. For instance, the following function:"
   ]
  },
  {
   "cell_type": "code",
   "execution_count": null,
   "id": "2cd93a25",
   "metadata": {},
   "outputs": [],
   "source": [
    "def parrot(voltage, state='a stiff', action='voom', type='Norwegian Blue'):\n",
    "    print(\"-- This parrot wouldn't\", action, end=' ')\n",
    "    print(\"if you put\", voltage, \"volts through it.\")\n",
    "    print(\"-- Lovely plumage, the\", type)\n",
    "    print(\"-- It's\", state, \"!\")"
   ]
  },
  {
   "cell_type": "markdown",
   "id": "e58c7a0a",
   "metadata": {},
   "source": [
    "accepts one required argument (voltage) and three optional arguments (state, action, and type). This function can be called in any of the following ways:\n",
    "```parrot(1000)                                          # 1 positional argument\n",
    "parrot(voltage=1000)                                  # 1 keyword argument\n",
    "parrot(voltage=1000000, action='VOOOOOM')             # 2 keyword arguments\n",
    "parrot(action='VOOOOOM', voltage=1000000)             # 2 keyword arguments\n",
    "parrot('a million', 'bereft of life', 'jump')         # 3 positional arguments\n",
    "parrot('a thousand', state='pushing up the daisies')  # 1 positional, 1 keyword```"
   ]
  },
  {
   "cell_type": "markdown",
   "id": "6723d03a",
   "metadata": {},
   "source": [
    "When a final formal parameter of the form **name is present, it receives a dictionary (see Mapping Types — dict) containing all keyword arguments except for those corresponding to a formal parameter. This may be combined with a formal parameter of the form *name (described in the next subsection) which receives a tuple containing the positional arguments beyond the formal parameter list. (*name must occur before **name.) For example, if we define a function like this:"
   ]
  },
  {
   "cell_type": "code",
   "execution_count": null,
   "id": "43a6d238",
   "metadata": {},
   "outputs": [],
   "source": [
    "def cheeseshop(kind, *arguments, **keywords):\n",
    "    print(\"-- Do you have any\", kind, \"?\")\n",
    "    print(\"-- I'm sorry, we're all out of\", kind)\n",
    "    for arg in arguments:\n",
    "        print(arg)\n",
    "    print(\"-\" * 40)\n",
    "    for kw in keywords:\n",
    "        print(kw, \":\", keywords[kw])\n",
    "        \n",
    "#It could be called like this:\n",
    "\n",
    "cheeseshop(\"Limburger\", \"It's very runny, sir.\",\n",
    "           \"It's really very, VERY runny, sir.\",\n",
    "           shopkeeper=\"Michael Palin\",\n",
    "           client=\"John Cleese\",\n",
    "           sketch=\"Cheese Shop Sketch\")"
   ]
  },
  {
   "cell_type": "markdown",
   "id": "5b597298",
   "metadata": {},
   "source": [
    "## String Formatters"
   ]
  },
  {
   "cell_type": "code",
   "execution_count": 3,
   "id": "493c8db4",
   "metadata": {},
   "outputs": [
    {
     "name": "stdout",
     "output_type": "stream",
     "text": [
      "Sammy has 5 balloons.\n"
     ]
    }
   ],
   "source": [
    "print(\"Sammy has {} balloons.\".format(5))"
   ]
  },
  {
   "cell_type": "code",
   "execution_count": 4,
   "id": "fb95e8ae",
   "metadata": {},
   "outputs": [
    {
     "name": "stdout",
     "output_type": "stream",
     "text": [
      "Sammy loves open source.\n"
     ]
    }
   ],
   "source": [
    "open_string = \"Sammy loves {}.\"\n",
    "print(open_string.format(\"open source\"))"
   ]
  },
  {
   "cell_type": "markdown",
   "id": "9f33c5ab",
   "metadata": {},
   "source": [
    "You can use multiple pairs of curly braces when using formatters. If we’d like to add another variable substitution to the sentence above, we can do so by adding a second pair of curly braces and passing a second value into the method:"
   ]
  },
  {
   "cell_type": "code",
   "execution_count": 5,
   "id": "d6119de4",
   "metadata": {},
   "outputs": [
    {
     "name": "stdout",
     "output_type": "stream",
     "text": [
      "Sammy loves open-source software.\n"
     ]
    }
   ],
   "source": [
    "new_open_string = \"Sammy loves {} {}.\"                      #2 {} placeholders\n",
    "print(new_open_string.format(\"open-source\", \"software\"))    #Pass 2 strings into method, separated by a comma"
   ]
  },
  {
   "cell_type": "code",
   "execution_count": 6,
   "id": "277a1421",
   "metadata": {},
   "outputs": [
    {
     "name": "stdout",
     "output_type": "stream",
     "text": [
      "Sammy loves open-source software, and has 5 balloons.\n"
     ]
    }
   ],
   "source": [
    "sammy_string = \"Sammy loves {} {}, and has {} {}.\"                      #4 {} placeholders\n",
    "print(sammy_string.format(\"open-source\", \"software\", 5, \"balloons\"))    #Pass 4 strings into method"
   ]
  },
  {
   "cell_type": "code",
   "execution_count": 7,
   "id": "cf0052e5",
   "metadata": {},
   "outputs": [
    {
     "name": "stdout",
     "output_type": "stream",
     "text": [
      "Sammy the shark has a pet pilot fish!\n"
     ]
    }
   ],
   "source": [
    "# We can pass these index numbers into the curly braces that serve as the placeholders in the original string:\n",
    "print(\"Sammy the {0} has a pet {1}!\".format(\"shark\", \"pilot fish\"))\n"
   ]
  },
  {
   "cell_type": "code",
   "execution_count": 8,
   "id": "87d1d3eb",
   "metadata": {},
   "outputs": [
    {
     "name": "stdout",
     "output_type": "stream",
     "text": [
      "Sammy is a shark, blue, and smiling happy!\n"
     ]
    }
   ],
   "source": [
    "# Use Index to change the order\n",
    "print(\"Sammy is a {3}, {2}, and {1} {0}!\".format(\"happy\", \"smiling\", \"blue\", \"shark\"))"
   ]
  },
  {
   "cell_type": "markdown",
   "id": "18fabaff",
   "metadata": {},
   "source": [
    "Let’s look at an example where we have an integer passed through the method, but want to display it as a float by adding the f conversion type argument:"
   ]
  },
  {
   "cell_type": "code",
   "execution_count": 9,
   "id": "113c6e16",
   "metadata": {},
   "outputs": [
    {
     "name": "stdout",
     "output_type": "stream",
     "text": [
      "Sammy ate 75.000000 percent of a pizza!\n"
     ]
    }
   ],
   "source": [
    "print(\"Sammy ate {0:f} percent of a {1}!\".format(75, \"pizza\"))"
   ]
  },
  {
   "cell_type": "markdown",
   "id": "330a56ee",
   "metadata": {},
   "source": [
    "If Sammy ate 75.765367% of the pizza, but we don’t need to have a high level of accuracy, we can limit the places after the decimal to 3 by adding .3 before the conversion type f:"
   ]
  },
  {
   "cell_type": "code",
   "execution_count": 10,
   "id": "c732fd31",
   "metadata": {},
   "outputs": [
    {
     "name": "stdout",
     "output_type": "stream",
     "text": [
      "Sammy ate 75.765 percent of a pizza!\n"
     ]
    }
   ],
   "source": [
    "print(\"Sammy ate {0:.3f} percent of a pizza!\".format(75.765367))"
   ]
  },
  {
   "cell_type": "markdown",
   "id": "252609a0",
   "metadata": {},
   "source": [
    "If you would like no decimal places to be shown, you can write your formatter like so:"
   ]
  },
  {
   "cell_type": "code",
   "execution_count": 11,
   "id": "a245d08c",
   "metadata": {},
   "outputs": [
    {
     "name": "stdout",
     "output_type": "stream",
     "text": [
      "Sammy ate 76 percent of a pizza!\n"
     ]
    }
   ],
   "source": [
    "print(\"Sammy ate {0:.0f} percent of a pizza!\".format(75.765367))"
   ]
  },
  {
   "cell_type": "markdown",
   "id": "8316076a",
   "metadata": {},
   "source": [
    "## modules"
   ]
  },
  {
   "cell_type": "code",
   "execution_count": 8,
   "id": "cb1b29f9",
   "metadata": {},
   "outputs": [
    {
     "name": "stdout",
     "output_type": "stream",
     "text": [
      "0 1 1 2 3 5 8 13 21 34 55 89 144 233 377 610 987 \n"
     ]
    },
    {
     "data": {
      "text/plain": [
       "[0, 1, 1, 2, 3, 5, 8, 13, 21, 34, 55, 89, 144, 233, 377, 610, 987]"
      ]
     },
     "execution_count": 8,
     "metadata": {},
     "output_type": "execute_result"
    }
   ],
   "source": [
    "# Create a new file named fibo.py outside this file but in this folder.\n",
    "\n",
    "\"\"\"\n",
    "# Fibonacci numbers module\n",
    "\n",
    "def fib(n):    # write Fibonacci series up to n\n",
    "    a, b = 0, 1\n",
    "    while a < n:\n",
    "        print(a, end=' ')\n",
    "        a, b = b, a+b\n",
    "    print()\n",
    "\n",
    "def fib2(n):   # return Fibonacci series up to n\n",
    "    result = []\n",
    "    a, b = 0, 1\n",
    "    while a < n:\n",
    "        result.append(a)\n",
    "        a, b = b, a+b\n",
    "    return result\n",
    "\"\"\"\n",
    "\n",
    "import fibo\n",
    "\n",
    "fibo.fib(1000)\n",
    "fibo.fib2(1000)"
   ]
  },
  {
   "cell_type": "code",
   "execution_count": 9,
   "id": "c682d493",
   "metadata": {},
   "outputs": [
    {
     "name": "stdout",
     "output_type": "stream",
     "text": [
      "__main__\n"
     ]
    }
   ],
   "source": [
    "print(__name__)"
   ]
  },
  {
   "cell_type": "code",
   "execution_count": 10,
   "id": "fd8c80d9",
   "metadata": {},
   "outputs": [
    {
     "data": {
      "text/plain": [
       "['A',\n",
       " '__builtins__',\n",
       " '__cached__',\n",
       " '__doc__',\n",
       " '__file__',\n",
       " '__loader__',\n",
       " '__name__',\n",
       " '__package__',\n",
       " '__spec__',\n",
       " 'fib',\n",
       " 'fib2']"
      ]
     },
     "execution_count": 10,
     "metadata": {},
     "output_type": "execute_result"
    }
   ],
   "source": [
    "import fibo\n",
    "dir(fibo)"
   ]
  },
  {
   "cell_type": "code",
   "execution_count": 12,
   "id": "ecafcaf2",
   "metadata": {},
   "outputs": [
    {
     "name": "stdout",
     "output_type": "stream",
     "text": [
      "90\n"
     ]
    }
   ],
   "source": [
    ">>> def my_function(counter=89):\n",
    ">>>     return counter + 1\n",
    ">>> \n",
    ">>> print(my_function())"
   ]
  },
  {
   "cell_type": "code",
   "execution_count": 16,
   "id": "0e5e83dd",
   "metadata": {},
   "outputs": [
    {
     "data": {
      "text/plain": [
       "<function __main__.my_function()>"
      ]
     },
     "execution_count": 16,
     "metadata": {},
     "output_type": "execute_result"
    }
   ],
   "source": [
    ">>> def my_function():\n",
    ">>>     print(\"In my function\")\n",
    ">>> \n",
    ">>> my_function"
   ]
  },
  {
   "cell_type": "code",
   "execution_count": 17,
   "id": "06f77f93",
   "metadata": {},
   "outputs": [
    {
     "name": "stdout",
     "output_type": "stream",
     "text": [
      "0\n",
      "1\n",
      "1\n",
      "2\n",
      "3\n",
      "5\n",
      "8\n"
     ]
    }
   ],
   "source": [
    "# Fibonacci series:\n",
    "# the sum of two elements defines the next\n",
    "a, b = 0, 1\n",
    "while a < 10:\n",
    "    print(a)\n",
    "    a, b = b, a+b"
   ]
  },
  {
   "cell_type": "code",
   "execution_count": 18,
   "id": "1db0852c",
   "metadata": {},
   "outputs": [
    {
     "data": {
      "text/plain": [
       "[1, 2, 10, 4]"
      ]
     },
     "execution_count": 18,
     "metadata": {},
     "output_type": "execute_result"
    }
   ],
   "source": [
    ">>> a = [1, 2, 3, 4]\n",
    ">>> b = a\n",
    ">>> a[2] = 10\n",
    ">>> a"
   ]
  },
  {
   "cell_type": "code",
   "execution_count": 19,
   "id": "201600b0",
   "metadata": {},
   "outputs": [
    {
     "data": {
      "text/plain": [
       "89"
      ]
     },
     "execution_count": 19,
     "metadata": {},
     "output_type": "execute_result"
    }
   ],
   "source": [
    ">>> a = { 'id': 89, 'name': \"John\" }\n",
    ">>> a['id']"
   ]
  },
  {
   "cell_type": "code",
   "execution_count": 20,
   "id": "71b210f8",
   "metadata": {},
   "outputs": [
    {
     "name": "stdout",
     "output_type": "stream",
     "text": [
      "1 2 3 4 "
     ]
    }
   ],
   "source": [
    ">>> for i in [1, 2, 3, 4]:\n",
    ">>>     print(i, end=\" \")"
   ]
  },
  {
   "cell_type": "code",
   "execution_count": 22,
   "id": "6a1a0eb0",
   "metadata": {},
   "outputs": [
    {
     "data": {
      "text/plain": [
       "0"
      ]
     },
     "execution_count": 22,
     "metadata": {},
     "output_type": "execute_result"
    }
   ],
   "source": [
    ">>> a = { 'id': 89, 'name': \"John\" }\n",
    ">>> a.get('age', 0)"
   ]
  },
  {
   "cell_type": "code",
   "execution_count": 23,
   "id": "a6671d0b",
   "metadata": {},
   "outputs": [
    {
     "name": "stdout",
     "output_type": "stream",
     "text": [
      "Hello Holberton School 98 "
     ]
    }
   ],
   "source": [
    ">>> for i in [\"Hello\", \"Holberton\", \"School\", 98]:\n",
    ">>>     print(i, end=\" \")"
   ]
  },
  {
   "cell_type": "code",
   "execution_count": 25,
   "id": "0c6fb667",
   "metadata": {},
   "outputs": [
    {
     "data": {
      "text/plain": [
       "'Amy'"
      ]
     },
     "execution_count": 25,
     "metadata": {},
     "output_type": "execute_result"
    }
   ],
   "source": [
    ">>> a = { 'id': 89, 'name': \"John\", 'projects': [1, 2, 3, 4], 'friends': [ { 'id': 82, 'name': \"Bob\" }, { 'id': 83, 'name': \"Amy\" } ] }\n",
    ">>> a.get('friends')[-1].get(\"name\")"
   ]
  },
  {
   "cell_type": "code",
   "execution_count": 26,
   "id": "3b7a4714",
   "metadata": {},
   "outputs": [
    {
     "data": {
      "text/plain": [
       "4"
      ]
     },
     "execution_count": 26,
     "metadata": {},
     "output_type": "execute_result"
    }
   ],
   "source": [
    ">>> a = { 'id': 89, 'name': \"John\", 'projects': [1, 2, 3, 4] }\n",
    ">>> a.get('projects')[3]"
   ]
  },
  {
   "cell_type": "code",
   "execution_count": 27,
   "id": "abb6a420",
   "metadata": {},
   "outputs": [
    {
     "name": "stdout",
     "output_type": "stream",
     "text": [
      "1 2 3 4 "
     ]
    }
   ],
   "source": [
    ">>> for i in [1, 2, 3, 4]:\n",
    ">>>     print(i, end=\" \")"
   ]
  },
  {
   "cell_type": "markdown",
   "id": "9543f389",
   "metadata": {},
   "source": [
    "## Errors and exceptions \n"
   ]
  },
  {
   "cell_type": "markdown",
   "id": "6be0562c",
   "metadata": {},
   "source": [
    "Exceptions: An exception is an event, which occurs during the execution of a program, that disrupts the normal flow of the program's instructions.\n",
    "Syntax error: Syntax errors are mistakes in using the language. Examples of syntax errors are missing a comma or a quotation mark, or misspelling a word."
   ]
  },
  {
   "cell_type": "markdown",
   "id": "bcd63176",
   "metadata": {},
   "source": [
    "Even if a statement or expression is syntactically correct, it may cause an error when an attempt is made to execute it. Errors detected during execution are called exceptions.\n",
    "Examples:\n",
    "* ZeroDivisionError\n",
    "* NameError\n",
    "* TypeError"
   ]
  },
  {
   "cell_type": "markdown",
   "id": "c99a6664",
   "metadata": {},
   "source": [
    "#### Handling Exceptions"
   ]
  },
  {
   "cell_type": "code",
   "execution_count": 13,
   "id": "69b7deb2",
   "metadata": {},
   "outputs": [
    {
     "name": "stdout",
     "output_type": "stream",
     "text": [
      "Handling runtime error:  division by zero\n"
     ]
    }
   ],
   "source": [
    "# ZeroDivisionError\n",
    "def divide(x):\n",
    "    y = x/0\n",
    "    return y\n",
    "\n",
    "\n",
    "try:\n",
    "    divide(19)\n",
    "except ZeroDivisionError as err:\n",
    "    print(\"Handling runtime error: \", err)\n"
   ]
  },
  {
   "cell_type": "code",
   "execution_count": 15,
   "id": "d3c00a96",
   "metadata": {},
   "outputs": [
    {
     "name": "stdout",
     "output_type": "stream",
     "text": [
      "Handling runtime error:  unsupported operand type(s) for /: 'str' and 'int'\n"
     ]
    }
   ],
   "source": [
    "# TypeError\n",
    "def divide(x):\n",
    "    y = x/0\n",
    "    return y\n",
    "\n",
    "try:\n",
    "    divide(\"19\")\n",
    "except TypeError as err:\n",
    "    print(\"Handling runtime error: \", err)"
   ]
  },
  {
   "cell_type": "code",
   "execution_count": 19,
   "id": "12352734",
   "metadata": {},
   "outputs": [
    {
     "name": "stdout",
     "output_type": "stream",
     "text": [
      "Handling runtime error:  name 'x' is not defined\n"
     ]
    }
   ],
   "source": [
    "# NameError\n",
    "try:\n",
    "    for i in range(x):\n",
    "        print(i)\n",
    "except NameError as err:\n",
    "    print(\"Handling runtime error: \", err)"
   ]
  },
  {
   "cell_type": "markdown",
   "id": "55239193",
   "metadata": {},
   "source": [
    "#### Raise statement\n",
    "The \"raise\" statement is used to raise an exception manually. It allows you to signal that an error or exceptional condition has occurred during the execution of your code. The basic syntax for the raise statement is as follows:"
   ]
  },
  {
   "cell_type": "code",
   "execution_count": 20,
   "id": "2e28eeb2",
   "metadata": {},
   "outputs": [
    {
     "name": "stdout",
     "output_type": "stream",
     "text": [
      "Error: Cannot divide by zero!\n"
     ]
    }
   ],
   "source": [
    "# raise\n",
    "\n",
    "def divide(a, b):\n",
    "    if b == 0:\n",
    "        raise ValueError(\"Cannot divide by zero!\")\n",
    "    return a / b\n",
    "\n",
    "try:\n",
    "    result = divide(10, 0)\n",
    "    print(result)\n",
    "except ValueError as e:\n",
    "    print(\"Error:\", str(e))"
   ]
  },
  {
   "cell_type": "markdown",
   "id": "0f8e532d",
   "metadata": {},
   "source": [
    "### More reading\n",
    "* Exception chaining\n",
    "* User defined exceptions\n",
    "* Clean-up actions"
   ]
  },
  {
   "cell_type": "markdown",
   "id": "af4034f2",
   "metadata": {},
   "source": [
    "### OBJECT ORIENTED PROGRAMMING "
   ]
  },
  {
   "cell_type": "code",
   "execution_count": 28,
   "id": "8fe2a129",
   "metadata": {},
   "outputs": [
    {
     "data": {
      "text/plain": [
       "'Henry'"
      ]
     },
     "execution_count": 28,
     "metadata": {},
     "output_type": "execute_result"
    }
   ],
   "source": [
    "class Robot:\n",
    "    def __init__(self, name=None):\n",
    "        self.name = name\n",
    "        \n",
    "    def set_name(self,name):\n",
    "        self.name = name\n",
    "    \n",
    "    def get_name(self):\n",
    "        return self.name\n",
    "    \n",
    "\n",
    "x = Robot()\n",
    "x.set_name(\"Henry\")\n",
    "x.get_name()\n",
    "\n",
    "y = Robot()\n",
    "y.set_name(x.get_name())\n",
    "y.get_name()\n",
    "\n",
    "    \n",
    "    \n",
    "    "
   ]
  },
  {
   "cell_type": "markdown",
   "id": "6868dac4",
   "metadata": {},
   "source": [
    "### __str__- and __repr__-Methods\n",
    "If a class has a __str__ method, the method will be used for an instance x of that class, if either the function str is applied to it or if it is used in a print function. __str__ will not be used, if repr is called, or if we try to output the value directly in an interactive Python shell.\n",
    "Otherwise, if a class has only the __repr__ method and no __str__ method, __repr__ will be applied in the situations, where __str__ would be applied, if it were available.\n",
    "A frequently asked question is when to use __repr__ and when __str__. __str__ is always the right choice, if the output should be for the end user or in other words, if it should be nicely printed. __repr__ on the other hand is used for the internal representation of an object. The output of __repr__ should be - if feasible - a string which can be parsed by the python interpreter. The result of this parsing is in an equal object."
   ]
  },
  {
   "cell_type": "code",
   "execution_count": 29,
   "id": "cc0370f2",
   "metadata": {},
   "outputs": [
    {
     "name": "stdout",
     "output_type": "stream",
     "text": [
      "Hello mark,this is a Robot class\n",
      "Robot(mark)\n"
     ]
    }
   ],
   "source": [
    "class Robot:\n",
    "    def __init__(self, name=None):\n",
    "        self.name = name\n",
    "        \n",
    "    def __repr__(self):\n",
    "        return \"{self.__class__.__name__}({self.name})\".format(self=self)\n",
    "    \n",
    "    def __str__(self):\n",
    "        return \"Hello {self.name},this is a Robot class\".format(self=self)\n",
    "        \n",
    "    def set_name(self,name):\n",
    "        self.name = name\n",
    "    \n",
    "    def get_name(self):\n",
    "        return self.name\n",
    "\n",
    "x = Robot(\"mark\")\n",
    "print(str(x))\n",
    "print(repr(x))"
   ]
  },
  {
   "cell_type": "markdown",
   "id": "67bec338",
   "metadata": {},
   "source": [
    "#### Public, - Protected-, and Private Attributes\n",
    "Private attributes should only be used by the owner, i.e. inside of the class definition itself.\n",
    "Protected (restricted) Attributes may be used, but at your own risk. Essentially, they should only be used under certain conditions.\n",
    "Public Attributes can and should be freely used.\n",
    "\n",
    "\n",
    "| Naming    | Type | Meaning |\n",
    "| ----      |:----:|  :----: |\n",
    "| _name      | Protected      | These attributes can be freely used inside or outside a class definition.|\n",
    "| _name   | Protected     | Protected attributes should not be used outside the class definition, unless inside a subclass definition.|\n",
    "| __name  | Private      | This kind of attribute is inaccessible and invisible. It's neither possible to read nor write to those attributes, except inside the class definition itself.|"
   ]
  },
  {
   "cell_type": "code",
   "execution_count": 31,
   "id": "47f19421",
   "metadata": {},
   "outputs": [
    {
     "name": "stdout",
     "output_type": "stream",
     "text": [
      "I am public\n",
      "I am protected\n"
     ]
    },
    {
     "ename": "AttributeError",
     "evalue": "'A' object has no attribute '__priv'",
     "output_type": "error",
     "traceback": [
      "\u001b[1;31m---------------------------------------------------------------------------\u001b[0m",
      "\u001b[1;31mAttributeError\u001b[0m                            Traceback (most recent call last)",
      "Cell \u001b[1;32mIn[31], line 12\u001b[0m\n\u001b[0;32m     10\u001b[0m \u001b[38;5;28mprint\u001b[39m(x\u001b[38;5;241m.\u001b[39mpub)\n\u001b[0;32m     11\u001b[0m \u001b[38;5;28mprint\u001b[39m(x\u001b[38;5;241m.\u001b[39m_prot)\n\u001b[1;32m---> 12\u001b[0m \u001b[38;5;28mprint\u001b[39m(\u001b[43mx\u001b[49m\u001b[38;5;241;43m.\u001b[39;49m\u001b[43m__priv\u001b[49m)\n",
      "\u001b[1;31mAttributeError\u001b[0m: 'A' object has no attribute '__priv'"
     ]
    }
   ],
   "source": [
    "class A():\n",
    "    def __init__(self):\n",
    "        self.__priv = \"I am private\"\n",
    "        self._prot = \"I am protected\"\n",
    "        self.pub = \"I am public\"\n",
    "        \n",
    "\n",
    "if __name__ == \"__main__\":\n",
    "    x = A()\n",
    "    print(x.pub)\n",
    "    print(x._prot)\n",
    "    print(x.__priv)\n"
   ]
  },
  {
   "cell_type": "code",
   "execution_count": null,
   "id": "47236544",
   "metadata": {},
   "outputs": [],
   "source": [
    "class Robot:\n",
    "    def __init__(self, name=None, build_year=2000):\n",
    "        self.__name = name\n",
    "        self.__build_year = build_year\n",
    "        \n",
    "    def say_hi(self):\n",
    "        if self.__name:\n",
    "            print(\"Hi, I am \" + self.__name)\n",
    "        else:\n",
    "            print(\"Hi, I am a robot without a name\")\n",
    "            \n",
    "    def set_name(self, name):\n",
    "        self.__name = name\n",
    "        \n",
    "    def get_name(self):\n",
    "        return self.__name\n",
    "    \n",
    "    def set_build_year(self, by):\n",
    "        self.__build_year = by\n",
    "        \n",
    "    def get_build_year(self):\n",
    "        return self.__build_year \n",
    "    \n",
    "    def __repr__(self):\n",
    "        return \"Robot('\" + self.__name + \"', \" +  str(self.__build_year) +  \")\"\n",
    "    def __str__(self):\n",
    "        return \"Name: \" + self.__name + \", Build Year: \" +  str(self.__build_year)\n",
    "if __name__ == \"__main__\":\n",
    "    x = Robot(\"Marvin\", 1979)\n",
    "    y = Robot(\"Caliban\", 1943)\n",
    "    for rob in [x, y]:\n",
    "        rob.say_hi()\n",
    "        if rob.get_name() == \"Caliban\":\n",
    "            rob.set_build_year(1993)\n",
    "        print(\"I was built in the year \" + str(rob.get_build_year()) + \"!\")"
   ]
  },
  {
   "cell_type": "markdown",
   "id": "4766f272",
   "metadata": {},
   "source": [
    "### Summary"
   ]
  },
  {
   "cell_type": "markdown",
   "id": "79992652",
   "metadata": {},
   "source": [
    "### Class And Object Variables\n",
    "\n",
    "Class variables are shared - they can be accessed by all instances of that class. There is only one copy of the class variable and when any one object makes a change to a class variable, that change will be seen by all the other instances.\n",
    "\n",
    "Object variables are owned by each individual object/instance of the class. In this case, each object has its own copy of the field i.e. they are not shared and are not related in any way to the field by the same name in a different instance."
   ]
  },
  {
   "cell_type": "code",
   "execution_count": null,
   "id": "de4364f0",
   "metadata": {},
   "outputs": [],
   "source": [
    "class Robot:\n",
    "    \"\"\"Represents a robot, with a name.\"\"\"\n",
    "\n",
    "    # A class variable, counting the number of robots\n",
    "    population = 0\n",
    "\n",
    "    def __init__(self, name):\n",
    "        \"\"\"Initializes the data.\"\"\"\n",
    "        self.name = name\n",
    "        print(\"(Initializing {})\".format(self.name))\n",
    "\n",
    "        # When this person is created, the robot\n",
    "        # adds to the population\n",
    "        Robot.population += 1\n",
    "\n",
    "    def die(self):\n",
    "        \"\"\"I am dying.\"\"\"\n",
    "        print(\"{} is being destroyed!\".format(self.name))\n",
    "\n",
    "        Robot.population -= 1\n",
    "\n",
    "        if Robot.population == 0:\n",
    "            print(\"{} was the last one.\".format(self.name))\n",
    "        else:\n",
    "            print(\"There are still {:d} robots working.\".format(\n",
    "                Robot.population))\n",
    "\n",
    "    def say_hi(self):\n",
    "        \"\"\"Greeting by the robot.\n",
    "\n",
    "        Yeah, they can do that.\"\"\"\n",
    "        print(\"Greetings, my masters call me {}.\".format(self.name))\n",
    "\n",
    "    @classmethod\n",
    "    def how_many(cls):\n",
    "        \"\"\"Prints the current population.\"\"\"\n",
    "        print(\"We have {:d} robots.\".format(cls.population))\n",
    "\n",
    "\n",
    "droid1 = Robot(\"R2-D2\")\n",
    "droid1.say_hi()\n",
    "Robot.how_many()\n",
    "\n",
    "droid2 = Robot(\"C-3PO\")\n",
    "droid2.say_hi()\n",
    "Robot.how_many()\n",
    "\n",
    "print(\"\\nRobots can do some work here.\\n\")\n",
    "\n",
    "print(\"Robots have finished their work. So let's destroy them.\")\n",
    "droid1.die()\n",
    "droid2.die()\n",
    "\n",
    "Robot.how_many()"
   ]
  },
  {
   "cell_type": "code",
   "execution_count": null,
   "id": "d8704811",
   "metadata": {},
   "outputs": [],
   "source": [
    "def f1(func):\n",
    "    def wrapper():\n",
    "        print(\"Started\")\n",
    "        func()\n",
    "        print(\"Ended\")\n",
    "    \n",
    "    return wrapper\n",
    "@f1\n",
    "def f():\n",
    "    print(\"Hello\")\n",
    "    \n",
    "f()\n",
    "\n",
    "# f = f(func)()\n",
    "#fun()"
   ]
  },
  {
   "cell_type": "markdown",
   "id": "fe33d238",
   "metadata": {},
   "source": [
    "## Inheritance "
   ]
  },
  {
   "cell_type": "code",
   "execution_count": 1,
   "id": "f4297bf0",
   "metadata": {},
   "outputs": [
    {
     "name": "stdout",
     "output_type": "stream",
     "text": [
      "(Initialized SchoolMember: Mrs. Shrividya)\n",
      "(Initialized Teacher: Mrs. Shrividya)\n",
      "(Initialized SchoolMember: Swaroop)\n",
      "(Initialized Student: Swaroop)\n",
      "\n",
      "Name:\"Mrs. Shrividya\" Age:\"40\" Salary: \"30000\"\n",
      "Name:\"Swaroop\" Age:\"25\" Marks: \"75\"\n"
     ]
    }
   ],
   "source": [
    "class SchoolMember:\n",
    "    '''Represents any school member.'''\n",
    "    def __init__(self, name, age):\n",
    "        self.name = name\n",
    "        self.age = age\n",
    "        print('(Initialized SchoolMember: {})'.format(self.name))\n",
    "\n",
    "    def tell(self):\n",
    "        '''Tell my details.'''\n",
    "        print('Name:\"{}\" Age:\"{}\"'.format(self.name, self.age), end=\" \")\n",
    "\n",
    "\n",
    "class Teacher(SchoolMember):\n",
    "    '''Represents a teacher.'''\n",
    "    def __init__(self, name, age, salary):\n",
    "        SchoolMember.__init__(self, name, age)\n",
    "        self.salary = salary\n",
    "        print('(Initialized Teacher: {})'.format(self.name))\n",
    "\n",
    "    def tell(self):\n",
    "        SchoolMember.tell(self)\n",
    "        print('Salary: \"{:d}\"'.format(self.salary))\n",
    "\n",
    "\n",
    "class Student(SchoolMember):\n",
    "    '''Represents a student.'''\n",
    "    def __init__(self, name, age, marks):\n",
    "        SchoolMember.__init__(self, name, age)\n",
    "        self.marks = marks\n",
    "        print('(Initialized Student: {})'.format(self.name))\n",
    "\n",
    "    def tell(self):\n",
    "        SchoolMember.tell(self)\n",
    "        print('Marks: \"{:d}\"'.format(self.marks))\n",
    "\n",
    "t = Teacher('Mrs. Shrividya', 40, 30000)\n",
    "s = Student('Swaroop', 25, 75)\n",
    "\n",
    "# prints a blank line\n",
    "print()\n",
    "\n",
    "members = [t, s]\n",
    "for member in members:\n",
    "    # Works for both Teachers and Students\n",
    "    member.tell()"
   ]
  },
  {
   "cell_type": "code",
   "execution_count": null,
   "id": "62139a25",
   "metadata": {},
   "outputs": [],
   "source": [
    ">>> class User:\n",
    ">>>     id = 89\n",
    ">>>     name = \"no name\"\n",
    ">>>     __password = None\n",
    ">>>     \n",
    ">>>     def __init__(self, new_name=None):\n",
    ">>>         self.is_new = True\n",
    ">>>         if new_name is not None:\n",
    ">>>             self.name = new_name\n",
    ">>> \n",
    ">>> u = User()\n",
    ">>> u.id"
   ]
  },
  {
   "cell_type": "code",
   "execution_count": null,
   "id": "5db95eb0",
   "metadata": {},
   "outputs": [],
   "source": [
    ">>> class User:\n",
    ">>>     id = 89\n",
    ">>>     name = \"no name\"\n",
    ">>>     __password = None\n",
    ">>>     \n",
    ">>>     def __init__(self, new_name=None):\n",
    ">>>         self.is_new = True\n",
    ">>>         if new_name is not None:\n",
    ">>>             self.name = new_name\n",
    ">>> \n",
    ">>> u = User(\"John\")\n",
    ">>> u.name"
   ]
  },
  {
   "cell_type": "code",
   "execution_count": null,
   "id": "9d0f2284",
   "metadata": {},
   "outputs": [],
   "source": [
    ">>> class User:\n",
    ">>>     id = 89\n",
    ">>>     name = \"no name\"\n",
    ">>>     __password = None\n",
    ">>>     \n",
    ">>>     def __init__(self, new_name=None):\n",
    ">>>         self.is_new = True\n",
    ">>>         if new_name is not None:\n",
    ">>>             self.name = new_name\n",
    ">>> \n",
    ">>> u = User()\n",
    ">>> u.name"
   ]
  },
  {
   "cell_type": "code",
   "execution_count": null,
   "id": "fc27c1b6",
   "metadata": {},
   "outputs": [],
   "source": [
    ">>> class User:\n",
    ">>>     id = 89\n",
    ">>>     name = \"no name\"\n",
    ">>>     __password = None\n",
    ">>>     \n",
    ">>>     def __init__(self, new_name=None):\n",
    ">>>         self.is_new = True\n",
    ">>>         if new_name is not None:\n",
    ">>>             self.name = new_name\n",
    ">>> \n",
    ">>> u = User()\n",
    ">>> u.is_new"
   ]
  },
  {
   "cell_type": "code",
   "execution_count": null,
   "id": "070d4cb4",
   "metadata": {},
   "outputs": [],
   "source": [
    "class Robot:\n",
    "    \"\"\"Represents a robot, with a name.\"\"\"\n",
    "\n",
    "    # A class variable, counting the number of robots\n",
    "    population = 0\n",
    "    \n",
    "\n",
    "    def __init__(self, name):\n",
    "        \"\"\"Initializes the data.\"\"\"\n",
    "        self.name = name\n",
    "        print(\"(Initializing {})\".format(self.name))\n",
    "\n",
    "        # When this person is created, the robot\n",
    "        # adds to the population\n",
    "        Robot.population += 1\n",
    "\n",
    "    def die(self):\n",
    "        \"\"\"I am dying.\"\"\"\n",
    "        print(\"{} is being destroyed!\".format(self.name))\n",
    "\n",
    "        Robot.population -= 1\n",
    "\n",
    "        if Robot.population == 0:\n",
    "            print(\"{} was the last one.\".format(self.name))\n",
    "        else:\n",
    "            print(\"There are still {:d} robots working.\".format(\n",
    "                Robot.population))\n",
    "\n",
    "    def say_hi(self):\n",
    "        \"\"\"Greeting by the robot.\n",
    "\n",
    "        Yeah, they can do that.\"\"\"\n",
    "        print(\"Greetings, my masters call me {}.\".format(self.name))\n",
    "\n",
    "    @classmethod\n",
    "    def how_many(cls):\n",
    "        \"\"\"Prints the current population.\"\"\"\n",
    "        print(\"We have {:d} robots.\".format(cls.population))\n",
    "\n",
    "\n",
    "droid1 = Robot(\"R2-D2\")\n",
    "droid1.say_hi()\n",
    "Robot.how_many()\n",
    "\n",
    "\n"
   ]
  },
  {
   "cell_type": "markdown",
   "id": "db84c11f",
   "metadata": {},
   "source": [
    "### Attributes\n",
    "Attributes are defined as a collective name for both fields and methods. A method is defined as a function that exposes the behaviour of an object. Variables that belong to an object or class are known as fields."
   ]
  },
  {
   "cell_type": "code",
   "execution_count": null,
   "id": "21e4ee2e",
   "metadata": {},
   "outputs": [],
   "source": [
    "class User:\n",
    "    # Class variable\n",
    "    id = 1\n",
    "    def __init__(self, name=None):\n",
    "        self.name = name\n",
    "    \n",
    "User.id = 98\n",
    "u = User()\n",
    "print(u.id)"
   ]
  },
  {
   "cell_type": "markdown",
   "id": "667c20d2",
   "metadata": {},
   "source": [
    "### Class Attributes\n",
    "We used class attributes as public attributes in the previous section. Of course, we can make public attributes private as well. We can do this by adding the double underscore again. If we do so, we need a possibility to access and change these private class attributes. We could use instance methods for this purpose:\n",
    "\n",
    "```\n",
    "class Robot:\n",
    "    __counter = 0\n",
    "    def __init__(self):\n",
    "        type(self).__counter += 1\n",
    "    def RobotInstances(self):\n",
    "        return Robot.__counter\n",
    "if __name__ == \"__main__\":\n",
    "    x = Robot()\n",
    "    print(x.RobotInstances())\n",
    "    y = Robot()\n",
    "    print(x.RobotInstances()) \n",
    "``` "
   ]
  },
  {
   "cell_type": "markdown",
   "id": "f0762adb",
   "metadata": {},
   "source": [
    "This is not a good idea for two reasons: First of all, because the number of robots has nothing to do with a single robot instance and secondly because we can't inquire the number of robots before we create an instance. If we try to invoke the method with the class name Robot.RobotInstances(), we get an error message, because it needs an instance as an argument:\n",
    "\n",
    "``` Robot.RobotInstances() ```\n",
    "\n",
    "\n",
    "So, what do we want? We want a method, which we can call via the class name or via the instance name without the necessity of passing a reference to an instance to it.\n",
    "The <b> SOLUTION </b> lies in static methods."
   ]
  },
  {
   "cell_type": "markdown",
   "id": "2d8622b4",
   "metadata": {},
   "source": [
    "## Static Methods\n",
    "#### What is the Static Method in Python?\n",
    "A static method is a type of method that belongs to a class but does not bind to a class or instance. Static methods do not rely on any class or instance data to perform a task. These methods perform a task in isolation from the class because they do not use implicit arguments such as self or cls. Therefore, a static method cannot modify the state of a class.\n",
    "\n",
    "Secondly, a static method does not receive an implicit first argument. This method can’t access or modify the class state. It is present in a class because it makes sense for the method to be present in class.\n",
    "\n",
    "A static method does not need a reference to an instance. To turn a method into a static method, all we have to do is to add a line with \"@staticmethod\" directly in front of the method header. It's the decorator syntax.\n",
    "i.e. A static method is an indipendent method that performs functions such counting the number of Robots in a class. e.g. The no. of robots could be a return value from an api and the static function prints it."
   ]
  },
  {
   "cell_type": "code",
   "execution_count": null,
   "id": "75f9b5ba",
   "metadata": {},
   "outputs": [],
   "source": [
    "class Robot:\n",
    "    __counter = 0\n",
    "    def __init__(self):\n",
    "        type(self).__counter += 1\n",
    "        \n",
    "    @staticmethod\n",
    "    def RobotInstances():\n",
    "        return Robot.__counter\n",
    "if __name__ == \"__main__\":\n",
    "    print(Robot.RobotInstances())\n",
    "    x = Robot()\n",
    "    print(x.RobotInstances())\n",
    "    y = Robot()\n",
    "    print(x.RobotInstances())\n",
    "    print(Robot.RobotInstances())"
   ]
  },
  {
   "cell_type": "markdown",
   "id": "24f7d9c9",
   "metadata": {},
   "source": [
    "### Class Methods\n",
    "Static methods shouldn't be confused with class methods. Like static methods, class methods are not bound to instances, but unlike static methods class methods are bound to a class. The first parameter of a class method is a reference to a class, i.e. a class object. They can be called via an instance or the class name.\n",
    "\n",
    "The @classmethod decorator is a built-in function decorator that is an expression that gets evaluated after your function is defined. The result of that evaluation shadows your function definition. A class method receives the class as an implicit first argument, just like an instance method receives the instance.\n",
    "\n",
    "#### Charactristics of a class method\n",
    "* A class method is a method that is bound to the class and not the object of the class.\n",
    "* They have the access to the state of the class as it takes a class parameter that points to the class and not the object instance.\n",
    "* It can modify a class state that would apply across all the instances of the class. For example, it can modify a class variable that will be applicable to all the instances.\n",
    "\n",
    "#### The use cases of class methods:\n",
    "\n",
    "* They are used in the definition of the so-called factory methods.\n",
    "* They are often used, where we have static methods, which have to call other static methods. To do this, we would have to hard code the class name, if we had to use static methods. This is a problem, if we are in a use case, where we have inherited classes.\n"
   ]
  },
  {
   "cell_type": "code",
   "execution_count": null,
   "id": "f4844386",
   "metadata": {},
   "outputs": [],
   "source": [
    "class Robot:\n",
    "    __counter = 0\n",
    "    def __init__(self):\n",
    "        type(self).__counter += 1\n",
    "    @classmethod\n",
    "    def RobotInstances(cls):\n",
    "        return cls, Robot.__counter\n",
    "if __name__ == \"__main__\":\n",
    "    print(Robot.RobotInstances())\n",
    "    x = Robot()\n",
    "    print(x.RobotInstances())\n",
    "    y = Robot()\n",
    "    print(x.RobotInstances())\n",
    "    print(Robot.RobotInstances())"
   ]
  },
  {
   "cell_type": "markdown",
   "id": "0e4114f7",
   "metadata": {},
   "source": [
    "### Class method vs Static Method\n",
    "The difference between the Class method and the static method is:\n",
    "\n",
    "1. A class method takes cls as the first parameter while a static method needs no specific parameters.\n",
    "2. A class method can access or modify the class state while a static method can’t access or modify it.\n",
    "3. In general, static methods know nothing about the class state. They are utility-type methods that take some parameters and work upon those parameters. On the other hand class methods must have class as a parameter.\n",
    "4. We use @classmethod decorator in python to create a class method and we use @staticmethod decorator to create a static method in python."
   ]
  },
  {
   "cell_type": "code",
   "execution_count": null,
   "id": "c1a49bc5",
   "metadata": {},
   "outputs": [],
   "source": [
    "class fraction(object):\n",
    "    def __init__(self, n, d):\n",
    "        self.numerator, self.denominator = fraction.reduce(n, d)\n",
    "    @staticmethod\n",
    "    def gcd(a,b):\n",
    "        while b != 0:\n",
    "            a, b = b, a%b\n",
    "        return a\n",
    "    @classmethod\n",
    "    def reduce(cls, n1, n2):\n",
    "        g = cls.gcd(n1, n2)\n",
    "        return (n1 // g, n2 // g)\n",
    "    def __str__(self):\n",
    "        return str(self.numerator)+'/'+str(self.denominator)\n",
    "\n",
    "from fraction1 import fraction\n",
    "x = fraction(8,24)\n",
    "print(x)"
   ]
  },
  {
   "cell_type": "markdown",
   "id": "63ded82f",
   "metadata": {},
   "source": [
    "### Class Methods vs. Static Methods and Instance Methods\n",
    "To demonstrate the usefulness of class methods in inheritance. We define a class Pet with a method about. This method should give some general class information. The class Cat will be inherited both in the subclass Dog and Cat. The method about will be inherited as well."
   ]
  },
  {
   "cell_type": "code",
   "execution_count": null,
   "id": "0a43a66f",
   "metadata": {},
   "outputs": [],
   "source": [
    "class Pet:\n",
    "    _class_info = \"pet animals\"\n",
    "    def about(self):\n",
    "        print(\"This class is about \" + self._class_info + \"!\")   \n",
    "class Dog(Pet):\n",
    "    _class_info = \"man's best friends\"\n",
    "class Cat(Pet):\n",
    "    _class_info = \"all kinds of cats\"\n",
    "p = Pet()\n",
    "p.about()\n",
    "d = Dog()\n",
    "d.about()\n",
    "c = Cat()\n",
    "c.about()"
   ]
  },
  {
   "cell_type": "markdown",
   "id": "c6567da4",
   "metadata": {},
   "source": [
    "To differenciate between the class Pet and its subclasses Dog and Cat, the method about has to know that it has been called via the Pet the Dog or the Cat class. To achieve this, we will decorate the @classmethod about."
   ]
  },
  {
   "cell_type": "code",
   "execution_count": null,
   "id": "8c096092",
   "metadata": {},
   "outputs": [],
   "source": [
    "class Pet:\n",
    "    _class_info = \"pet animals\"\n",
    "    @classmethod\n",
    "    def about(cls):\n",
    "        print(\"This class is about \" + cls._class_info + \"!\")   \n",
    "class Dog(Pet):\n",
    "    _class_info = \"man's best friends\"\n",
    "class Cat(Pet):\n",
    "    _class_info = \"all kinds of cats\"\n",
    "Pet.about()\n",
    "Dog.about()\n",
    "Cat.about()"
   ]
  },
  {
   "cell_type": "markdown",
   "id": "7666d55e",
   "metadata": {},
   "source": [
    "### Properties vs. Getters and Setters\n",
    "getters are known as accessors or methods of retrieving data while setters are known as mutators or methods of changing data."
   ]
  },
  {
   "cell_type": "code",
   "execution_count": null,
   "id": "776fcece",
   "metadata": {
    "scrolled": true
   },
   "outputs": [],
   "source": [
    "class Employee:\n",
    "    def __init__(self, first, last):\n",
    "        self.first = first\n",
    "        self.last = last\n",
    "        self.email = first + \".\" + last + \"@email.com\"\n",
    "    \n",
    "    def fullname(self):\n",
    "        return \"{} {}\".format(self.first, self.last)\n",
    "\n",
    "emp_1 = Employee(\"John\", \"Smith\")\n",
    "print(emp_1.first)\n",
    "print(emp_1.last)\n",
    "print(emp_1.fullname())\n",
    "print(emp_1.email)"
   ]
  },
  {
   "cell_type": "markdown",
   "id": "0021fc3b",
   "metadata": {},
   "source": [
    "Since email depends on the first name and the last name, once we change the first name, the email does not chnage. To avoid changing the email manually everytime a person changes the full name the @properties decorator comes to the rescue.\n",
    "It allows us to define a method and access it as an attribute."
   ]
  },
  {
   "cell_type": "code",
   "execution_count": null,
   "id": "fd9edbe5",
   "metadata": {},
   "outputs": [],
   "source": [
    "## BEFORE\n",
    "class Employee:\n",
    "    def __init__(self, first, last):\n",
    "        self.first = first\n",
    "        self.last = last\n",
    "        self.email = first + \".\" + last + \"@email.com\"\n",
    "    \n",
    "    def fullname(self):\n",
    "        return \"{} {}\".format(self.first, self.last)\n",
    "\n",
    "emp_1 = Employee(\"John\", \"Smith\")\n",
    "emp_1.first = \"ben\"\n",
    "print(emp_1.first)\n",
    "print(emp_1.last)\n",
    "print(emp_1.fullname())\n",
    "print(emp_1.email)"
   ]
  },
  {
   "cell_type": "code",
   "execution_count": null,
   "id": "f57acd96",
   "metadata": {},
   "outputs": [],
   "source": [
    "## AFTER\n",
    "class Employee:\n",
    "    def __init__(self, first, last):\n",
    "        self.first = first\n",
    "        self.last = last\n",
    "        \n",
    "    @property\n",
    "    def email(self):\n",
    "        return self.first + \".\" + self.last + \"@email.com\"\n",
    "    \n",
    "    def fullname(self):\n",
    "        return \"{} {}\".format(self.first, self.last)\n",
    "\n",
    "emp_1 = Employee(\"John\", \"Smith\")\n",
    "emp_1.first = \"ben\"\n",
    "print(emp_1.first)\n",
    "print(emp_1.last)\n",
    "print(emp_1.fullname())\n",
    "print(emp_1.email)"
   ]
  },
  {
   "cell_type": "markdown",
   "id": "9b620542",
   "metadata": {},
   "source": [
    "If we want to update the first, last and the email address when the user changes the full name, we use a setter decorator which is the name of the variable.setter. i.e. full name.setter"
   ]
  },
  {
   "cell_type": "code",
   "execution_count": null,
   "id": "1dab7da3",
   "metadata": {},
   "outputs": [],
   "source": [
    "class Employee:\n",
    "    def __init__(self, first, last):\n",
    "        self.first = first\n",
    "        self.last = last\n",
    "        \n",
    "    @property\n",
    "    def email(self):\n",
    "        return self.first + \".\" + self.last + \"@email.com\"\n",
    "    \n",
    "    @property\n",
    "    def fullname(self):\n",
    "        return \"{} {}\".format(self.first, self.last)\n",
    "    \n",
    "    @fullname.setter\n",
    "    def fullname(self, name):\n",
    "        first, last = name.split(\" \")\n",
    "        self.first = first\n",
    "        self.last = last\n",
    "    \n",
    "    @fullname.deleter\n",
    "    def fullname(self):\n",
    "        print(\"Deleting user...\")\n",
    "        self.first = None\n",
    "        self.last = None\n",
    "        \n",
    "\n",
    "emp_1 = Employee(\"John\", \"Smith\")\n",
    "emp_1.fullname = \"jason stathan\"\n",
    "print(emp_1.first)\n",
    "print(emp_1.last)\n",
    "print(emp_1.fullname)\n",
    "print(emp_1.email)\n",
    "del emp_1.fullname"
   ]
  },
  {
   "cell_type": "code",
   "execution_count": null,
   "id": "7dc9d726",
   "metadata": {},
   "outputs": [],
   "source": [
    "### Everthing is an object\n",
    "l1 = [1, 2, 3]\n",
    "l2 = l1\n",
    "l1 = l1 + [4]\n",
    "print(l2)\n",
    "print(l1)\n"
   ]
  },
  {
   "cell_type": "code",
   "execution_count": null,
   "id": "d622b776",
   "metadata": {},
   "outputs": [],
   "source": [
    "def increment(n):\n",
    "    n += 1\n",
    "\n",
    "a = 1\n",
    "increment(a)\n",
    "print(a)"
   ]
  },
  {
   "cell_type": "code",
   "execution_count": null,
   "id": "efb433da",
   "metadata": {},
   "outputs": [],
   "source": [
    "def assign_value(n, v):\n",
    "    n = v\n",
    "\n",
    "l1 = [1, 2, 3]\n",
    "l2 = [4, 5, 6]\n",
    "assign_value(l1, l2)\n",
    "print(l1)"
   ]
  },
  {
   "cell_type": "code",
   "execution_count": null,
   "id": "e07820c8",
   "metadata": {},
   "outputs": [],
   "source": [
    "a = ()\n",
    "type(a)"
   ]
  },
  {
   "cell_type": "code",
   "execution_count": null,
   "id": "623059a0",
   "metadata": {},
   "outputs": [],
   "source": [
    "a = (1)\n",
    "type(a)"
   ]
  },
  {
   "cell_type": "code",
   "execution_count": null,
   "id": "4a1240a9",
   "metadata": {},
   "outputs": [],
   "source": [
    "a = (1, )\n",
    "type(a)"
   ]
  },
  {
   "cell_type": "markdown",
   "id": "ed451042",
   "metadata": {},
   "source": [
    "### Tuples\n",
    "Python tuples have a surprising trait: they are immutable, but their values may change. This may happen when a tuple holds a reference to any mutable object, such as a list. "
   ]
  },
  {
   "cell_type": "code",
   "execution_count": 7,
   "id": "f46acf8e",
   "metadata": {},
   "outputs": [
    {
     "data": {
      "text/plain": [
       "True"
      ]
     },
     "execution_count": 7,
     "metadata": {},
     "output_type": "execute_result"
    }
   ],
   "source": [
    "dum = ('1861-10-23', ['poetry', 'pretend-fight'])\n",
    "dee = ('1861-10-23', ['poetry', 'pretend-fight'])\n",
    "dum == dee"
   ]
  },
  {
   "cell_type": "code",
   "execution_count": 8,
   "id": "a77e11e0",
   "metadata": {},
   "outputs": [
    {
     "data": {
      "text/plain": [
       "False"
      ]
     },
     "execution_count": 8,
     "metadata": {},
     "output_type": "execute_result"
    }
   ],
   "source": [
    "dum is dee"
   ]
  },
  {
   "cell_type": "code",
   "execution_count": null,
   "id": "26d18109",
   "metadata": {},
   "outputs": [],
   "source": [
    "id(dum), id(dee)"
   ]
  },
  {
   "cell_type": "markdown",
   "id": "f6d4f201",
   "metadata": {},
   "source": [
    "It’s clear that dum and dee refer to objects that are equal, but not to the same object. They have distinct identities. Now, after the events witnessed by Alice, Tweedledum decided to become a rapper, adopting the stage name T-Doom. This is how we can express this in Python"
   ]
  },
  {
   "cell_type": "code",
   "execution_count": null,
   "id": "65ffedcd",
   "metadata": {},
   "outputs": [],
   "source": [
    "t_doom = dum\n",
    "t_doom"
   ]
  },
  {
   "cell_type": "code",
   "execution_count": null,
   "id": "0bd575fb",
   "metadata": {},
   "outputs": [],
   "source": [
    "t_doom == dum"
   ]
  },
  {
   "cell_type": "code",
   "execution_count": null,
   "id": "d4877888",
   "metadata": {},
   "outputs": [],
   "source": [
    "t_doom is dum"
   ]
  },
  {
   "cell_type": "markdown",
   "id": "a65ad0ac",
   "metadata": {},
   "source": [
    "So, t_doom and dum are equal — but Alice might complain that it’s foolish to say that, because t_doom and dum refer to the same person: t_doom is dum."
   ]
  },
  {
   "cell_type": "code",
   "execution_count": null,
   "id": "9610599b",
   "metadata": {},
   "outputs": [],
   "source": [
    "# After much practice, T-Doom is now a skilled rapper. In code, this is what happened:\n",
    "skills = t_doom[1]\n",
    "skills.append('rap')\n",
    "t_doom"
   ]
  },
  {
   "cell_type": "code",
   "execution_count": null,
   "id": "0db1a4d9",
   "metadata": {},
   "outputs": [],
   "source": [
    "dum"
   ]
  },
  {
   "cell_type": "code",
   "execution_count": null,
   "id": "492410e5",
   "metadata": {},
   "outputs": [],
   "source": [
    "## After dum became a rapper, the twin brothers are no longer equal:\n",
    "dum == dee"
   ]
  },
  {
   "cell_type": "code",
   "execution_count": null,
   "id": "c0d5cbee",
   "metadata": {},
   "outputs": [],
   "source": [
    "a = (1)\n",
    "b = (1)\n",
    "a is b"
   ]
  },
  {
   "cell_type": "markdown",
   "id": "d5511d32",
   "metadata": {},
   "source": [
    "### Inheritance in Python\n",
    "It is a mechanism that allows you to create a hierarchy of classes that share a set of properties and methods by deriving a class from another class. Inheritance is the capability of one class to derive or inherit the properties from another class. \n",
    "the class that inherits is called the subclass while the class that is iherited from is called the superclass. \n",
    "\n",
    "Benefits of inheritance are: \n",
    "* It represents real-world relationships well.\n",
    "* It provides the reusability of a code. We don’t have to write the same code again and again. Also, it allows us to add more features to a class without modifying it.\n",
    "* It is transitive in nature, which means that if class B inherits from another class A, then all the subclasses of B would automatically inherit from class A.\n",
    "* Inheritance offers a simple, understandable model structure. \n",
    "* Less development and maintenance expenses result from an inheritance. \n",
    "syntax:\n",
    "\n",
    "```\n",
    "    Class BaseClass:\n",
    "    {Body}\n",
    "    \n",
    "    Class DerivedClass(BaseClass):\n",
    "    {Body}\n",
    "\n",
    "```"
   ]
  },
  {
   "cell_type": "code",
   "execution_count": 3,
   "id": "0618cb49",
   "metadata": {},
   "outputs": [
    {
     "name": "stdout",
     "output_type": "stream",
     "text": [
      "Geek1 False\n",
      "Geek2 True\n"
     ]
    }
   ],
   "source": [
    "# A Python program to demonstrate inheritance\n",
    " \n",
    "# Base or Super class. Note object in bracket.\n",
    "# (Generally, object is made ancestor of all classes)\n",
    "# In Python 3.x \"class Person\" is\n",
    "# equivalent to \"class Person(object)\"\n",
    " \n",
    "class Person(object):\n",
    " \n",
    "    # Constructor\n",
    "    def __init__(self, name):\n",
    "        self.name = name\n",
    " \n",
    "    # To get name\n",
    "    def getName(self):\n",
    "        return self.name\n",
    " \n",
    "    # To check if this person is an employee\n",
    "    def isEmployee(self):\n",
    "        return False\n",
    " \n",
    " \n",
    "# Inherited or Subclass (Note Person in bracket)\n",
    "class Employee(Person):\n",
    " \n",
    "    # Here we return true\n",
    "    def isEmployee(self):\n",
    "        return True\n",
    " \n",
    " \n",
    "# Driver code\n",
    "emp = Person(\"Geek1\")  # An Object of Person\n",
    "print(emp.getName(), emp.isEmployee())\n",
    " \n",
    "emp = Employee(\"Geek2\")  # An Object of Employee\n",
    "print(emp.getName(), emp.isEmployee())"
   ]
  },
  {
   "cell_type": "markdown",
   "id": "4086ef47",
   "metadata": {},
   "source": [
    "### Subclassing (Calling constructor of parent class)\n",
    "A child class needs to identify which class is its parent class. This can be done by mentioning the parent class name in the definition of the child class. \n",
    "\n",
    "Eg: class subclass_name (superclass_name): "
   ]
  },
  {
   "cell_type": "code",
   "execution_count": 7,
   "id": "107331f0",
   "metadata": {},
   "outputs": [
    {
     "name": "stdout",
     "output_type": "stream",
     "text": [
      "Rahul\n",
      "886012\n"
     ]
    }
   ],
   "source": [
    "\n",
    "# Python code to demonstrate how parent constructors\n",
    "# are called.\n",
    " \n",
    "# parent class\n",
    "class Person(object):\n",
    " \n",
    "    # __init__ is known as the constructor\n",
    "    def __init__(self, name, idnumber):\n",
    "        self.name = name\n",
    "        self.idnumber = idnumber\n",
    " \n",
    "    def display(self):\n",
    "        print(self.name)\n",
    "        print(self.idnumber)\n",
    "#child class\n",
    " \n",
    "class Employee(Person):\n",
    "    def __init__(self, name, idnumber, salary, post):\n",
    "        self.salary = salary\n",
    "        self.post = post\n",
    " \n",
    "        # invoking the __init__ of the parent class\n",
    "        Person.__init__(self, name, idnumber)\n",
    " \n",
    " \n",
    "# creation of an object variable or an instance\n",
    "a = Employee('Rahul', 886012, 200000, \"Intern\")\n",
    " \n",
    "# calling a function of the class Person using its instance\n",
    "a.display()"
   ]
  },
  {
   "cell_type": "markdown",
   "id": "f560ad9c",
   "metadata": {},
   "source": [
    "#### Python program to demonstrate error if we forget to invoke __init__() of the parent\n",
    "```\n",
    "\n",
    "class A:\n",
    "    def __init__(self, n='Rahul'):\n",
    "        self.name = n\n",
    " \n",
    " \n",
    "class B(A):\n",
    "    def __init__(self, roll):\n",
    "        self.roll = roll\n",
    " \n",
    " \n",
    "object = B(23)\n",
    "print(object.name)\n",
    "```\n",
    "If you forget to invoke the __init__() of the parent class then its instance variables would not be available to the child class. "
   ]
  },
  {
   "cell_type": "markdown",
   "id": "6668098d",
   "metadata": {},
   "source": [
    "### Different types of Inheritance:\n",
    "* Single inheritance: When a child class inherits from only one parent class, it is called single inheritance. We saw an example above.\n",
    "* Multiple inheritances: When a child class inherits from multiple parent classes, it is called multiple inheritances. \n",
    "\n",
    "Unlike java, python shows multiple inheritances."
   ]
  },
  {
   "cell_type": "code",
   "execution_count": 4,
   "id": "579238f8",
   "metadata": {},
   "outputs": [
    {
     "name": "stdout",
     "output_type": "stream",
     "text": [
      "Base1\n",
      "Base2\n",
      "Derived\n",
      "Geek1 Geek2\n"
     ]
    }
   ],
   "source": [
    "# Python example to show the working of multiple\n",
    "# inheritance\n",
    " \n",
    " \n",
    "class Base1(object):\n",
    "    def __init__(self):\n",
    "        self.str1 = \"Geek1\"\n",
    "        print(\"Base1\")\n",
    " \n",
    " \n",
    "class Base2(object):\n",
    "    def __init__(self):\n",
    "        self.str2 = \"Geek2\"\n",
    "        print(\"Base2\")\n",
    " \n",
    " \n",
    "class Derived(Base1, Base2):\n",
    "    def __init__(self):\n",
    " \n",
    "        # Calling constructors of Base1\n",
    "        # and Base2 classes\n",
    "        Base1.__init__(self)\n",
    "        Base2.__init__(self)\n",
    "        print(\"Derived\")\n",
    " \n",
    "    def printStrs(self):\n",
    "        print(self.str1, self.str2)\n",
    " \n",
    " \n",
    "ob = Derived()\n",
    "ob.printStrs()"
   ]
  },
  {
   "cell_type": "markdown",
   "id": "c4459c26",
   "metadata": {},
   "source": [
    "### Multilevel inheritance: When we have a child and grandchild relationship. "
   ]
  },
  {
   "cell_type": "code",
   "execution_count": 5,
   "id": "22984b2c",
   "metadata": {},
   "outputs": [
    {
     "name": "stdout",
     "output_type": "stream",
     "text": [
      "Geek1 23 Noida\n"
     ]
    }
   ],
   "source": [
    "# A Python program to demonstrate inheritance\n",
    " \n",
    "# Base or Super class. Note object in bracket.\n",
    "# (Generally, object is made ancestor of all classes)\n",
    "# In Python 3.x \"class Person\" is\n",
    "# equivalent to \"class Person(object)\"\n",
    " \n",
    " \n",
    "class Base(object):\n",
    " \n",
    "    # Constructor\n",
    "    def __init__(self, name):\n",
    "        self.name = name\n",
    " \n",
    "    # To get name\n",
    "    def getName(self):\n",
    "        return self.name\n",
    " \n",
    " \n",
    "# Inherited or Sub class (Note Person in bracket)\n",
    "class Child(Base):\n",
    " \n",
    "    # Constructor\n",
    "    def __init__(self, name, age):\n",
    "        Base.__init__(self, name)\n",
    "        self.age = age\n",
    " \n",
    "    # To get name\n",
    "    def getAge(self):\n",
    "        return self.age\n",
    " \n",
    "# Inherited or Sub class (Note Person in bracket)\n",
    " \n",
    " \n",
    "class GrandChild(Child):\n",
    " \n",
    "    # Constructor\n",
    "    def __init__(self, name, age, address):\n",
    "        Child.__init__(self, name, age)\n",
    "        self.address = address\n",
    " \n",
    "    # To get address\n",
    "    def getAddress(self):\n",
    "        return self.address\n",
    " \n",
    " \n",
    "# Driver code\n",
    "g = GrandChild(\"Geek1\", 23, \"Noida\")\n",
    "print(g.getName(), g.getAge(), g.getAddress())"
   ]
  },
  {
   "cell_type": "markdown",
   "id": "975592c7",
   "metadata": {},
   "source": [
    "* Hierarchical inheritance More than one derived class are created from a single base.\n",
    "* Hybrid inheritance: This form combines more than one form of inheritance. Basically, it is a blend of more than one type of inheritance."
   ]
  },
  {
   "cell_type": "markdown",
   "id": "3c093ac8",
   "metadata": {},
   "source": [
    "### Private members of the parent class \n",
    "We don’t always want the instance variables of the parent class to be inherited by the child class i.e. we can make some of the instance variables of the parent class private, which won’t be available to the child class. \n",
    "We can make an instance variable private by adding double underscores before its name. For example,"
   ]
  },
  {
   "cell_type": "code",
   "execution_count": 41,
   "id": "0118d91b",
   "metadata": {
    "collapsed": true
   },
   "outputs": [
    {
     "ename": "AttributeError",
     "evalue": "'D' object has no attribute 'd'",
     "output_type": "error",
     "traceback": [
      "\u001b[0;31m---------------------------------------------------------------------------\u001b[0m",
      "\u001b[0;31mAttributeError\u001b[0m                            Traceback (most recent call last)",
      "\u001b[0;32m<ipython-input-41-8c9d81be3226>\u001b[0m in \u001b[0;36m<module>\u001b[0;34m\u001b[0m\n\u001b[1;32m     20\u001b[0m \u001b[0;34m\u001b[0m\u001b[0m\n\u001b[1;32m     21\u001b[0m \u001b[0;31m# produces an error as d is private instance variable\u001b[0m\u001b[0;34m\u001b[0m\u001b[0;34m\u001b[0m\u001b[0;34m\u001b[0m\u001b[0m\n\u001b[0;32m---> 22\u001b[0;31m \u001b[0mprint\u001b[0m\u001b[0;34m(\u001b[0m\u001b[0mobject1\u001b[0m\u001b[0;34m.\u001b[0m\u001b[0md\u001b[0m\u001b[0;34m)\u001b[0m\u001b[0;34m\u001b[0m\u001b[0;34m\u001b[0m\u001b[0m\n\u001b[0m",
      "\u001b[0;31mAttributeError\u001b[0m: 'D' object has no attribute 'd'"
     ]
    }
   ],
   "source": [
    "# Python program to demonstrate private members\n",
    "# of the parent class\n",
    " \n",
    " \n",
    "class C(object):\n",
    "    def __init__(self):\n",
    "        self.c = 21\n",
    " \n",
    "        # d is private instance variable\n",
    "        self.__d = 42\n",
    " \n",
    " \n",
    "class D(C):\n",
    "    def __init__(self):\n",
    "        self.e = 84\n",
    "        C.__init__(self)\n",
    " \n",
    " \n",
    "object1 = D()\n",
    " \n",
    "# produces an error as d is private instance variable\n",
    "print(object1.d)"
   ]
  },
  {
   "cell_type": "markdown",
   "id": "b82bfa74",
   "metadata": {},
   "source": [
    "### *args and **kwargs in python explained\n",
    "* *args is also refered to as the unpacking operator. It allows our python function to accept and unpack a tuple from a user using postional argements.\n",
    "* *args and **kwargs allow you to pass a variable number of arguments to a function. What does variable mean here is that you do not know before hand that how many arguments can be passed to your function by the user so in this case you use these two keywords. *args is used to send a non-keyworded variable length argument list to the function"
   ]
  },
  {
   "cell_type": "code",
   "execution_count": 51,
   "id": "d3ae7b82",
   "metadata": {},
   "outputs": [
    {
     "data": {
      "text/plain": [
       "15"
      ]
     },
     "execution_count": 51,
     "metadata": {},
     "output_type": "execute_result"
    }
   ],
   "source": [
    "# Exaplae of args \n",
    "def calculator(*args):\n",
    "    return sum(args)\n",
    "\n",
    "calculator(1, 2, 3, 4, 5)"
   ]
  },
  {
   "cell_type": "code",
   "execution_count": 42,
   "id": "04c7488a",
   "metadata": {},
   "outputs": [
    {
     "name": "stdout",
     "output_type": "stream",
     "text": [
      "First normal arg Java\n",
      "Another arg through *argv:  Python\n",
      "Another arg through *argv:  c++\n",
      "Another arg through *argv:  c#\n",
      "Another arg through *argv:  Javascript\n"
     ]
    }
   ],
   "source": [
    "## Example of *args\n",
    "def test_var_args(f_arg, *argv):\n",
    "    print(\"First normal arg\", f_arg)\n",
    "    for arg in argv:\n",
    "        print(\"Another arg through *argv: \", arg)\n",
    "\n",
    "test_var_args(\"Java\", \"Python\",\"c++\",\"c#\",\"Javascript\")"
   ]
  },
  {
   "cell_type": "markdown",
   "id": "ec2d81b3",
   "metadata": {},
   "source": [
    "#### Usage of **kwargs\n",
    "**kwargs allows you to pass keyworded variable length of arguments to a function. You should use **kwargs if you want to handle named arguments in a function. "
   ]
  },
  {
   "cell_type": "code",
   "execution_count": 50,
   "id": "4e9850a9",
   "metadata": {},
   "outputs": [
    {
     "name": "stdout",
     "output_type": "stream",
     "text": [
      "arg3 == 3\n",
      "arg2 == two\n",
      "arg1 == 5\n"
     ]
    }
   ],
   "source": [
    "# Example of **kwargs \n",
    "def greet_me(**kwargs):\n",
    "    if kwargs is not None:\n",
    "        for key, value in kwargs.items():\n",
    "            print(\"%s == %s\" %(key, value))\n",
    "\n",
    "kwargs = {\"arg3\": 3, \"arg2\": \"two\",\"arg1\":5}\n",
    "greet_me(**kwargs)"
   ]
  },
  {
   "cell_type": "markdown",
   "id": "aaa3986c",
   "metadata": {},
   "source": [
    "### Using *args and **kwargs to call a function"
   ]
  },
  {
   "cell_type": "markdown",
   "id": "a811f59b",
   "metadata": {},
   "source": [
    "A formal argument(farg) is a necessary argument that we require from a user in order to execute a function effectively."
   ]
  },
  {
   "cell_type": "code",
   "execution_count": 52,
   "id": "c061dfbe",
   "metadata": {},
   "outputs": [
    {
     "name": "stdout",
     "output_type": "stream",
     "text": [
      "{'pet_name': 'cat', 'pet_color': 'brown', 'first_name': 'bob', 'last_name': 'smith'}\n"
     ]
    }
   ],
   "source": [
    "# Example of kwargs\n",
    "def vet_form(first_name, last_name, **additional_info):\n",
    "    additional_info[\"first_name\"] = first_name\n",
    "    additional_info[\"last_name\"] = last_name    \n",
    "    return additional_info\n",
    "\n",
    "client_one = vet_form(\"bob\", \"smith\", pet_name = \"cat\", pet_color = \"brown\")\n",
    "print(client_one)\n",
    "        "
   ]
  },
  {
   "cell_type": "markdown",
   "id": "0f4e47f2",
   "metadata": {},
   "source": [
    "## Json encoder and decoder \n",
    "json exposes an API familiar to users of the standard library marshal and pickle modules."
   ]
  },
  {
   "cell_type": "code",
   "execution_count": 53,
   "id": "cbaec7cf",
   "metadata": {},
   "outputs": [
    {
     "name": "stdout",
     "output_type": "stream",
     "text": [
      "{\n",
      "    \"4\": 5,\n",
      "    \"6\": 7\n",
      "}\n"
     ]
    }
   ],
   "source": [
    "import json \n",
    "print(json.dumps({'4': 5, '6': 7}, sort_keys=True, indent=4))"
   ]
  },
  {
   "cell_type": "code",
   "execution_count": null,
   "id": "42812868",
   "metadata": {},
   "outputs": [],
   "source": []
  },
  {
   "cell_type": "code",
   "execution_count": 13,
   "id": "2751134c",
   "metadata": {},
   "outputs": [
    {
     "data": {
      "text/plain": [
       "True"
      ]
     },
     "execution_count": 13,
     "metadata": {},
     "output_type": "execute_result"
    }
   ],
   "source": [
    "dum = ('1861-10-23', ['poetry', 'pretend-fight'])\n",
    "dee = ('1861-10-23', ['poetry', 'pretend-fight'])\n",
    "dum == dee"
   ]
  },
  {
   "cell_type": "code",
   "execution_count": 16,
   "id": "f36a3d21",
   "metadata": {},
   "outputs": [
    {
     "data": {
      "text/plain": [
       "True"
      ]
     },
     "execution_count": 16,
     "metadata": {},
     "output_type": "execute_result"
    }
   ],
   "source": [
    "dum is dee"
   ]
  },
  {
   "cell_type": "code",
   "execution_count": 15,
   "id": "6c7b9586",
   "metadata": {},
   "outputs": [],
   "source": [
    "dum = dee"
   ]
  }
 ],
 "metadata": {
  "kernelspec": {
   "display_name": "Python 3 (ipykernel)",
   "language": "python",
   "name": "python3"
  },
  "language_info": {
   "codemirror_mode": {
    "name": "ipython",
    "version": 3
   },
   "file_extension": ".py",
   "mimetype": "text/x-python",
   "name": "python",
   "nbconvert_exporter": "python",
   "pygments_lexer": "ipython3",
   "version": "3.10.9"
  }
 },
 "nbformat": 4,
 "nbformat_minor": 5
}
